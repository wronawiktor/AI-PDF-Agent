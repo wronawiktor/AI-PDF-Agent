{
 "cells": [
  {
   "cell_type": "code",
   "execution_count": 1,
   "metadata": {},
   "outputs": [],
   "source": [
    "import json"
   ]
  },
  {
   "cell_type": "code",
   "execution_count": 19,
   "metadata": {},
   "outputs": [
    {
     "name": "stdout",
     "output_type": "stream",
     "text": [
      "afety.\", \"general-01-small.pdf_1\": **THREE-VIEW AND DIMENSIO\n"
     ]
    }
   ],
   "source": [
    "json_string = \"\"\"\n",
    "{'general-01-small.pdf_0': '**P2008 JC - Aircraft Flight Manual**\\n\\nThe introduction section of this flight manual outlines its purpose, which is to provide vital information for pilots and instructors to ensure the safe and efficient operation of the Tecnam P2008 JC, a very light airplane. It indicates that the manual contains essential data required for the pilot of CS-VLA, in addition to supplementary information provided by the aircraft manufacturer.\\n\\nThe certification basis indicates that this aircraft has been approved by the European Aviation Safety Agency under CS-VLA, incorporating Amendment 1 and follows Type Certificate No. EASA.A.583, which was issued on September 27, 2013. The aircraft falls under the Category of Airworthiness classified as Normal, with Noise Certification based on EASA CS 36 Amendment 2.\\n\\nIn the warnings, cautions, and notes section, definitions are provided to clarify the terms used throughout the manual. A warning indicates that failure to observe the related procedure may lead to significant degradation of flight safety. A caution specifies that non-compliance might cause a minor issue or a longer-term degradation of flight safety. Lastly, a note highlights special items that may be important or unusual but are not directly related to safety.', 'general-01-small.pdf_1': \"**THREE-VIEW AND DIMENSIONS**\\n\\nThe section presents a detailed three-view representation of the P2008 JC aircraft, illustrating its design from three key perspectives: the front, top, and side. \\n\\n- **Top View**: This view highlights the wingspan and overall aircraft width, with the dimension labeled as 9,000 mm indicating the total wingspan from tip to tip.\\n\\n- **Front View**: This perspective provides insight into the design of the nose and the width of the fuselage, showing a measurement of 2,100 mm across the wings.\\n\\n- **Side View**: The side elevation illustrates the aircraft's length, labeled as 6,930 mm, and the height, which is indicated but not specified in the image.\\n\\nThese dimensions and perspectives are crucial for understanding the aircraft’s geometry and its spatial characteristics, enabling accurate assessments for design, maintenance, and operational planning.\", 'weight-and-balance-06-small.pdf_0': '**WEIGHING RECORD**\\n\\nThe weighing record provides a detailed framework for assessing the weight distribution of the aircraft model P2008 JC. Key aspects of the weighing method include the configuration of weight registration, as well as calculations necessary for ensuring balance and safety during operation.\\n\\nThe diagram illustrates the aircraft and indicates notable measurement references: \\n\\n- **Datum**: Established at the propeller flange, serving as a baseline for all measurements.\\n- **Plumb Line**: Used to obtain exact vertical references for weight distribution.\\n- **Weights Defined**: \\n  - Nose wheel weight (W1)\\n  - Left-hand (LH) wheel weight (WL)\\n  - Right-hand (RH) wheel weight (WR)\\n  - Total weight on the main wheels (W2 = WL + WR)\\n\\nEach weight is accompanied by corresponding measurements for the distance from the reference points:\\n\\n- **Plumb bob distances**: These are recorded for both the LH and RH wheels (Al and Ar, respectively) and also the distance to the nose wheel (B). \\n\\n**Calculations Provided**:\\n\\n1. **Empty weight (We)**: Calculated as the total of W1, W2, and is expressed in both kilograms and pounds.\\n  \\n2. **Practical Weight Distribution Calculation**:\\n   - \\\\( D \\\\) measures the distance of W2 from the datum and utilizes the variable \\\\( B \\\\) for accurate positioning.\\n   - The percentage of distance is represented as \\\\( D\\\\% \\\\), highlighting', 'weight-and-balance-06-small.pdf_1': \"**WEIGHING RECORD II**\\n\\nThis section outlines the weighing record for the model P2008 JCS/N aircraft, specifying crucial parameters related to weight and balance calculations for proper aircraft handling and safety.\\n\\nThe diagram illustrates the aircraft's configuration with reference to its datum, which is established at the propeller flange. Key elements include the nose wheel weight (W1), left-hand wheel weight (Wl), and right-hand wheel weight (Wr). The total weight distribution at the main landing gear is represented as W2, calculated by the formula: W2 = WL + WR.\\n\\nTo aid in weight management, three primary weights are defined:\\n- **Empty Weight (We)**: This is the sum of all wheel weights (W1 + W2), provided in either kilograms or pounds.\\n- **Maximum Takeoff Weight (WT)**: Set at 630 kg (1388 lbs), this weight serves as an upper limit for safe flight operations.\\n- **Maximum Useful Load (Wu)**: Calculated as the difference between the maximum takeoff weight and the empty weight (WT - We).\\n\\nAdditional calculations include:\\n- The distance from the datum (D) for weight calculation: expressed in meters or feet, it considers specific weight distributions across the aircraft.\\n- The empty weight moment (M), represented as M = [(D + 1.566) We], measured in units of mass or weight.\\n\\nThese calculations are crucial for determining the aircraft's balance and ensuring performance within safe operational limits. Proper\", 'weight-and-balance-06-small.pdf_2': '**WEIGHTS AND C.G.**\\n\\nThis section provides important charts for computing the weight and balance of the aircraft. The fundamental formula for these calculations is:\\n\\n**Weight * Arm = Moment.**\\n\\nThere are specific tables for three categories: Pilot & Passenger, Fuel, and Baggage.\\n\\n**Pilot & Passenger Table**:\\nThe first column lists the weight of the pilot and passenger in kilograms, ranging from 10 kg to 230 kg. The corresponding moments in kilogram-meters are calculated through a multiplication of the weight and the arm, depicted in the second column. For instance:\\n- A 10 kg weight corresponds to a moment of 18 kgm.\\n- At 100 kg, the moment is 180 kgm.\\n\\n**Fuel Table**:\\nThis table shows fuel weight and its corresponding moment for different fuel quantities measured in liters. \\nKey entries include:\\n- For 10 liters, the weight is 7.2 kg and the moment is 15.91 kgm.\\n- At 100 liters, the weight increases to 72 kg, yielding a moment of 159.12 kgm.\\n\\n**Baggage Table**:\\nThe baggage section also lists weight increments alongside their respective moments. Notable values include:\\n- For a baggage weight of 5 kg, the moment is 12.05 kgm.\\n- For 20 kg of baggage, the moment reaches 48.20 kgm.\\n\\nEach table is essential for pilots to ensure that the aircraft is within safe'}\n",
    "\"\"\"\n",
    "json_string = json_string.replace('\"', \"\").replace(\"'\", \"\\\"\").replace(\"\\n\", \" \")\n",
    "print(json_string[1290:1350])\n",
    "# print(json_string)"
   ]
  },
  {
   "cell_type": "code",
   "execution_count": 17,
   "metadata": {},
   "outputs": [
    {
     "ename": "JSONDecodeError",
     "evalue": "Expecting value: line 1 column 1326 (char 1325)",
     "output_type": "error",
     "traceback": [
      "\u001b[0;31m---------------------------------------------------------------------------\u001b[0m",
      "\u001b[0;31mJSONDecodeError\u001b[0m                           Traceback (most recent call last)",
      "Cell \u001b[0;32mIn[17], line 1\u001b[0m\n\u001b[0;32m----> 1\u001b[0m x \u001b[38;5;241m=\u001b[39m \u001b[43mjson\u001b[49m\u001b[38;5;241;43m.\u001b[39;49m\u001b[43mloads\u001b[49m\u001b[43m(\u001b[49m\u001b[43mjson_string\u001b[49m\u001b[43m)\u001b[49m\n\u001b[1;32m      2\u001b[0m \u001b[38;5;28mprint\u001b[39m(json\u001b[38;5;241m.\u001b[39mdumps(x, indent\u001b[38;5;241m=\u001b[39m\u001b[38;5;241m4\u001b[39m))\n",
      "File \u001b[0;32m~/.pyenv/versions/3.10.7/lib/python3.10/json/__init__.py:346\u001b[0m, in \u001b[0;36mloads\u001b[0;34m(s, cls, object_hook, parse_float, parse_int, parse_constant, object_pairs_hook, **kw)\u001b[0m\n\u001b[1;32m    341\u001b[0m     s \u001b[38;5;241m=\u001b[39m s\u001b[38;5;241m.\u001b[39mdecode(detect_encoding(s), \u001b[38;5;124m'\u001b[39m\u001b[38;5;124msurrogatepass\u001b[39m\u001b[38;5;124m'\u001b[39m)\n\u001b[1;32m    343\u001b[0m \u001b[38;5;28;01mif\u001b[39;00m (\u001b[38;5;28mcls\u001b[39m \u001b[38;5;129;01mis\u001b[39;00m \u001b[38;5;28;01mNone\u001b[39;00m \u001b[38;5;129;01mand\u001b[39;00m object_hook \u001b[38;5;129;01mis\u001b[39;00m \u001b[38;5;28;01mNone\u001b[39;00m \u001b[38;5;129;01mand\u001b[39;00m\n\u001b[1;32m    344\u001b[0m         parse_int \u001b[38;5;129;01mis\u001b[39;00m \u001b[38;5;28;01mNone\u001b[39;00m \u001b[38;5;129;01mand\u001b[39;00m parse_float \u001b[38;5;129;01mis\u001b[39;00m \u001b[38;5;28;01mNone\u001b[39;00m \u001b[38;5;129;01mand\u001b[39;00m\n\u001b[1;32m    345\u001b[0m         parse_constant \u001b[38;5;129;01mis\u001b[39;00m \u001b[38;5;28;01mNone\u001b[39;00m \u001b[38;5;129;01mand\u001b[39;00m object_pairs_hook \u001b[38;5;129;01mis\u001b[39;00m \u001b[38;5;28;01mNone\u001b[39;00m \u001b[38;5;129;01mand\u001b[39;00m \u001b[38;5;129;01mnot\u001b[39;00m kw):\n\u001b[0;32m--> 346\u001b[0m     \u001b[38;5;28;01mreturn\u001b[39;00m \u001b[43m_default_decoder\u001b[49m\u001b[38;5;241;43m.\u001b[39;49m\u001b[43mdecode\u001b[49m\u001b[43m(\u001b[49m\u001b[43ms\u001b[49m\u001b[43m)\u001b[49m\n\u001b[1;32m    347\u001b[0m \u001b[38;5;28;01mif\u001b[39;00m \u001b[38;5;28mcls\u001b[39m \u001b[38;5;129;01mis\u001b[39;00m \u001b[38;5;28;01mNone\u001b[39;00m:\n\u001b[1;32m    348\u001b[0m     \u001b[38;5;28mcls\u001b[39m \u001b[38;5;241m=\u001b[39m JSONDecoder\n",
      "File \u001b[0;32m~/.pyenv/versions/3.10.7/lib/python3.10/json/decoder.py:337\u001b[0m, in \u001b[0;36mJSONDecoder.decode\u001b[0;34m(self, s, _w)\u001b[0m\n\u001b[1;32m    332\u001b[0m \u001b[38;5;28;01mdef\u001b[39;00m \u001b[38;5;21mdecode\u001b[39m(\u001b[38;5;28mself\u001b[39m, s, _w\u001b[38;5;241m=\u001b[39mWHITESPACE\u001b[38;5;241m.\u001b[39mmatch):\n\u001b[1;32m    333\u001b[0m \u001b[38;5;250m    \u001b[39m\u001b[38;5;124;03m\"\"\"Return the Python representation of ``s`` (a ``str`` instance\u001b[39;00m\n\u001b[1;32m    334\u001b[0m \u001b[38;5;124;03m    containing a JSON document).\u001b[39;00m\n\u001b[1;32m    335\u001b[0m \n\u001b[1;32m    336\u001b[0m \u001b[38;5;124;03m    \"\"\"\u001b[39;00m\n\u001b[0;32m--> 337\u001b[0m     obj, end \u001b[38;5;241m=\u001b[39m \u001b[38;5;28;43mself\u001b[39;49m\u001b[38;5;241;43m.\u001b[39;49m\u001b[43mraw_decode\u001b[49m\u001b[43m(\u001b[49m\u001b[43ms\u001b[49m\u001b[43m,\u001b[49m\u001b[43m \u001b[49m\u001b[43midx\u001b[49m\u001b[38;5;241;43m=\u001b[39;49m\u001b[43m_w\u001b[49m\u001b[43m(\u001b[49m\u001b[43ms\u001b[49m\u001b[43m,\u001b[49m\u001b[43m \u001b[49m\u001b[38;5;241;43m0\u001b[39;49m\u001b[43m)\u001b[49m\u001b[38;5;241;43m.\u001b[39;49m\u001b[43mend\u001b[49m\u001b[43m(\u001b[49m\u001b[43m)\u001b[49m\u001b[43m)\u001b[49m\n\u001b[1;32m    338\u001b[0m     end \u001b[38;5;241m=\u001b[39m _w(s, end)\u001b[38;5;241m.\u001b[39mend()\n\u001b[1;32m    339\u001b[0m     \u001b[38;5;28;01mif\u001b[39;00m end \u001b[38;5;241m!=\u001b[39m \u001b[38;5;28mlen\u001b[39m(s):\n",
      "File \u001b[0;32m~/.pyenv/versions/3.10.7/lib/python3.10/json/decoder.py:355\u001b[0m, in \u001b[0;36mJSONDecoder.raw_decode\u001b[0;34m(self, s, idx)\u001b[0m\n\u001b[1;32m    353\u001b[0m     obj, end \u001b[38;5;241m=\u001b[39m \u001b[38;5;28mself\u001b[39m\u001b[38;5;241m.\u001b[39mscan_once(s, idx)\n\u001b[1;32m    354\u001b[0m \u001b[38;5;28;01mexcept\u001b[39;00m \u001b[38;5;167;01mStopIteration\u001b[39;00m \u001b[38;5;28;01mas\u001b[39;00m err:\n\u001b[0;32m--> 355\u001b[0m     \u001b[38;5;28;01mraise\u001b[39;00m JSONDecodeError(\u001b[38;5;124m\"\u001b[39m\u001b[38;5;124mExpecting value\u001b[39m\u001b[38;5;124m\"\u001b[39m, s, err\u001b[38;5;241m.\u001b[39mvalue) \u001b[38;5;28;01mfrom\u001b[39;00m \u001b[38;5;28;01mNone\u001b[39;00m\n\u001b[1;32m    356\u001b[0m \u001b[38;5;28;01mreturn\u001b[39;00m obj, end\n",
      "\u001b[0;31mJSONDecodeError\u001b[0m: Expecting value: line 1 column 1326 (char 1325)"
     ]
    }
   ],
   "source": [
    "x = json.loads(json_string)\n",
    "print(json.dumps(x, indent=4))"
   ]
  }
 ],
 "metadata": {
  "kernelspec": {
   "display_name": ".venv",
   "language": "python",
   "name": "python3"
  },
  "language_info": {
   "codemirror_mode": {
    "name": "ipython",
    "version": 3
   },
   "file_extension": ".py",
   "mimetype": "text/x-python",
   "name": "python",
   "nbconvert_exporter": "python",
   "pygments_lexer": "ipython3",
   "version": "3.10.7"
  }
 },
 "nbformat": 4,
 "nbformat_minor": 2
}
